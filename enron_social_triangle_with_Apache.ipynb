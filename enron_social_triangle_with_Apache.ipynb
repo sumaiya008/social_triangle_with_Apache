{
  "nbformat": 4,
  "nbformat_minor": 0,
  "metadata": {
    "colab": {
      "provenance": []
    },
    "kernelspec": {
      "name": "python3",
      "display_name": "Python 3"
    }
  },
  "cells": [
    {
      "cell_type": "code",
      "metadata": {
        "id": "bjzjcPWYnHLr",
        "colab": {
          "base_uri": "https://localhost:8080/"
        },
        "outputId": "d183d07a-32aa-4132-e417-9768f3935d81"
      },
      "source": [
        "%%shell\n",
        "gdown --quiet 1ay5DcH64Qao1HR7CQnR6Cl1hbBMgGqXj\n",
        "gdown --quiet 13BozEl3JtS43Xuu2Ek9IwMULpWjPH4VC\n",
        "gdown --quiet 1It6GP8O2JqkmUtZKbYp1kpwpuwOXlLps\n",
        "pip --quiet install pyspark"
      ],
      "execution_count": null,
      "outputs": [
        {
          "output_type": "stream",
          "name": "stdout",
          "text": [
            "\u001b[2K     \u001b[90m━━━━━━━━━━━━━━━━━━━━━━━━━━━━━━━━━━━━━━━\u001b[0m \u001b[32m281.4/281.4 MB\u001b[0m \u001b[31m5.3 MB/s\u001b[0m eta \u001b[36m0:00:00\u001b[0m\n",
            "\u001b[?25h  Preparing metadata (setup.py) ... \u001b[?25l\u001b[?25hdone\n",
            "\u001b[2K     \u001b[90m━━━━━━━━━━━━━━━━━━━━━━━━━━━━━━━━━━━━━━\u001b[0m \u001b[32m199.7/199.7 KB\u001b[0m \u001b[31m15.2 MB/s\u001b[0m eta \u001b[36m0:00:00\u001b[0m\n",
            "\u001b[?25h  Building wheel for pyspark (setup.py) ... \u001b[?25l\u001b[?25hdone\n"
          ]
        },
        {
          "output_type": "execute_result",
          "data": {
            "text/plain": []
          },
          "metadata": {},
          "execution_count": 2
        }
      ]
    },
    {
      "cell_type": "markdown",
      "metadata": {
        "id": "AsSA0dIMNznB"
      },
      "source": [
        "# Social Triangle Using Apache Spark\n",
        "\n",
        "The goal of this notebook is to implement a Social Triangle algorithm using Spark. For example, given the email dataset, we will list all \"reciprocal\" relationships in the company. More specifically:\n",
        "\n",
        "If A emails B and B emails A, then A and B is *reciprocal*.\n",
        "\n",
        "If A emails B but B doesn’t email A, then A and B is *directed*.\n",
        "\n",
        "**Dataset:** We will use a subset of the open [Enron Email Dataset](https://www.cs.cmu.edu/~./enron/ \"Enron Email Dataset\"), which contains approximately 10,000 simplified email headers from the Enron Corporation. A subset of the data is available as **enron_mails_small.csv**\n",
        "\n",
        "The file contains 3 columns *Date*, *From*, and *To*. Their description is as follows:\n",
        "\n",
        "|Column name|Description|\n",
        "|--|--|\n",
        "|Date |The date and time of the email, in the format YYYY-MM-DD hh-mm-ss, <br />e.g. \"1998-10-30 07:43:00\" |\n",
        "|From |The sender email address, <br />e.g. \"mark.taylor@enron.com\" |\n",
        "|To | A list of recipients' email addresses separated by semicolons ';', <br />e.g. \"jennifer.fraser@enron.com;jeffrey.hodge@enron.com\" |\n",
        "\n",
        "Note that, we only care about users employed by Enron, i.e. only relationships where email addresses end with *'@enron.com'*.\n",
        "\n",
        "The expected output is also provided below. For each reciprocal relationship, please output a tuple consisting of two strings. The first one is always **'reciprocal'**. And the second one is a string showing the name of the two person in the following format: **'Jane Doe : John Doe'**. The names should be presented in the lexical order, i.e. there will not be a 'John Doe : Jane Doe' since 'Jane' is ordered before 'John.\n",
        "\n",
        "Though the dataset only contains email addresses, not actual names, we're assuming that the email aliases were created based on their name. For example:\n",
        "\n",
        "|Email Address|Converted Name|\n",
        "|--|--|\n",
        "|mark.taylor@enron.com|Mark Taylor|\n",
        "|alan.aronowitz@enron.com|Alan Aronowitz|\n",
        "|marc.r.cutler@enron.com|Marc R Cutler|\n",
        "|hugh@enron.com|Hugh|"
      ]
    },
    {
      "cell_type": "markdown",
      "source": [
        "### You can choose to use either Spark's RDD or Spark's DataFrame in this task.\n",
        "Regardless of your choice, you must perform all computation using Sparks' transformations, i.e. data must be read directly from the input file into your RDD and DataFrame and stay there for the entire computation."
      ],
      "metadata": {
        "id": "YgBTISnqrV4a"
      }
    },
    {
      "cell_type": "markdown",
      "source": [
        "### Using RDD"
      ],
      "metadata": {
        "id": "iaEgcHgqpW9J"
      }
    },
    {
      "cell_type": "code",
      "source": [
        "mail_csv = 'enron_mails_small.csv'\n",
        "mail = sc.textFile(mail_csv, use_unicode=True).cache()\n",
        "list(enumerate(mail.first().split(',')))"
      ],
      "metadata": {
        "colab": {
          "base_uri": "https://localhost:8080/"
        },
        "id": "PJ4wZhImQ5GI",
        "outputId": "0272b90b-1c18-48fa-866a-e81757ad460e"
      },
      "execution_count": null,
      "outputs": [
        {
          "output_type": "execute_result",
          "data": {
            "text/plain": [
              "[(0, 'Date'), (1, 'From'), (2, 'To')]"
            ]
          },
          "metadata": {},
          "execution_count": 14
        }
      ]
    },
    {
      "cell_type": "code",
      "source": [
        "def extractEmails(partId, rows):\n",
        "    if partId == 0:\n",
        "        next(rows)\n",
        "    reader = csv.reader(rows)\n",
        "    for fields in reader:\n",
        "        if len(fields) == 2:\n",
        "            continue\n",
        "        From, To = fields[1], fields[2]\n",
        "        if not (From.endswith('@enron.com') and To.endswith('@enron.com')):\n",
        "            continue\n",
        "        if any(char.isdigit() for char in From):\n",
        "            continue\n",
        "        # Splitting \"To\" email addresses using \";\" separator and filter for Enron emails\n",
        "        To_list = [to_email.strip() for to_email in To.split(';') if to_email.strip().endswith('@enron.com') and not any(char.isdigit() for char in to_email.strip())]\n",
        "        for to_email in To_list:\n",
        "            yield (From, to_email)\n",
        "\n",
        "A2 = mail.mapPartitionsWithIndex(extractEmails)\n",
        "A2.count()"
      ],
      "metadata": {
        "colab": {
          "base_uri": "https://localhost:8080/",
          "height": 222
        },
        "id": "pTo6p0XaQ_NF",
        "outputId": "572b8711-505b-41b5-f3d5-cc10a08f6db8"
      },
      "execution_count": null,
      "outputs": [
        {
          "output_type": "error",
          "ename": "NameError",
          "evalue": "ignored",
          "traceback": [
            "\u001b[0;31m---------------------------------------------------------------------------\u001b[0m",
            "\u001b[0;31mNameError\u001b[0m                                 Traceback (most recent call last)",
            "\u001b[0;32m<ipython-input-1-418b950558e9>\u001b[0m in \u001b[0;36m<module>\u001b[0;34m\u001b[0m\n\u001b[1;32m     16\u001b[0m             \u001b[0;32myield\u001b[0m \u001b[0;34m(\u001b[0m\u001b[0mFrom\u001b[0m\u001b[0;34m,\u001b[0m \u001b[0mto_email\u001b[0m\u001b[0;34m)\u001b[0m\u001b[0;34m\u001b[0m\u001b[0;34m\u001b[0m\u001b[0m\n\u001b[1;32m     17\u001b[0m \u001b[0;34m\u001b[0m\u001b[0m\n\u001b[0;32m---> 18\u001b[0;31m \u001b[0mA2\u001b[0m \u001b[0;34m=\u001b[0m \u001b[0mmail\u001b[0m\u001b[0;34m.\u001b[0m\u001b[0mmapPartitionsWithIndex\u001b[0m\u001b[0;34m(\u001b[0m\u001b[0mextractEmails\u001b[0m\u001b[0;34m)\u001b[0m\u001b[0;34m\u001b[0m\u001b[0;34m\u001b[0m\u001b[0m\n\u001b[0m\u001b[1;32m     19\u001b[0m \u001b[0mA2\u001b[0m\u001b[0;34m.\u001b[0m\u001b[0mcount\u001b[0m\u001b[0;34m(\u001b[0m\u001b[0;34m)\u001b[0m\u001b[0;34m\u001b[0m\u001b[0;34m\u001b[0m\u001b[0m\n",
            "\u001b[0;31mNameError\u001b[0m: name 'mail' is not defined"
          ]
        }
      ]
    },
    {
      "cell_type": "code",
      "source": [
        "def extract_name(email):\n",
        "    return tuple(map(lambda x: x.split('@')[0].replace('.', ' ').title(), email))\n",
        "B2= A2.map(lambda x: extract_name(x))\n",
        "B2.take(5)"
      ],
      "metadata": {
        "colab": {
          "base_uri": "https://localhost:8080/"
        },
        "id": "bgq9RWNiQ_QU",
        "outputId": "a158e717-0d39-4255-917e-2a52178088b4"
      },
      "execution_count": null,
      "outputs": [
        {
          "output_type": "execute_result",
          "data": {
            "text/plain": [
              "[('Mark Taylor', 'Shari Stack'),\n",
              " ('Mark Taylor', 'Yao Apasu'),\n",
              " ('Mark Taylor', 'Paul Simons'),\n",
              " ('Mark Taylor', 'Justin Boyd'),\n",
              " ('Mark Taylor', 'Tana Jones')]"
            ]
          },
          "metadata": {},
          "execution_count": 17
        }
      ]
    },
    {
      "cell_type": "code",
      "source": [
        "# Remove duplicates\n",
        "C2 = B2.distinct()\n",
        "C2.count()"
      ],
      "metadata": {
        "colab": {
          "base_uri": "https://localhost:8080/"
        },
        "id": "Brl3JaRUQ_Tb",
        "outputId": "b2428c2a-c58b-42a6-d21f-16523c3b8c98"
      },
      "execution_count": null,
      "outputs": [
        {
          "output_type": "execute_result",
          "data": {
            "text/plain": [
              "3390"
            ]
          },
          "metadata": {},
          "execution_count": 18
        }
      ]
    },
    {
      "cell_type": "code",
      "source": [
        "# Sort by the From column\n",
        "D2 = C2.sortByKey()\n",
        "D2.take(5)"
      ],
      "metadata": {
        "colab": {
          "base_uri": "https://localhost:8080/"
        },
        "id": "HvwWcTfPQ_Wp",
        "outputId": "723013e5-a24f-4777-e80a-5bbe8fb54328"
      },
      "execution_count": null,
      "outputs": [
        {
          "output_type": "execute_result",
          "data": {
            "text/plain": [
              "[('Andrew Lewis', 'Derek Davies'),\n",
              " ('Angela Mcculloch', 'Ione Irvine'),\n",
              " ('Angela Mcculloch', 'Attila Pazmandi'),\n",
              " ('Angela Mcculloch', 'Dan Dietrich'),\n",
              " ('Angela Mcculloch', 'Tara Sweitzer')]"
            ]
          },
          "metadata": {},
          "execution_count": 19
        }
      ]
    },
    {
      "cell_type": "code",
      "source": [
        "def interactions(names):\n",
        "    sorted_names = tuple(sorted(names))\n",
        "    return (sorted_names, 1)\n",
        "\n",
        "# Countting the occurrences of each email pair\n",
        "E2 = D2.map(lambda x: interactions(x)) \\\n",
        "       .reduceByKey(lambda x, y: x + y)\n",
        "E2.take(5)"
      ],
      "metadata": {
        "colab": {
          "base_uri": "https://localhost:8080/"
        },
        "id": "C-fBRGz_Q_ZW",
        "outputId": "280f13f2-b555-4a32-bc3b-8c86f3d3833a"
      },
      "execution_count": null,
      "outputs": [
        {
          "output_type": "execute_result",
          "data": {
            "text/plain": [
              "[(('Andrew Lewis', 'Derek Davies'), 1),\n",
              " (('Angela Mcculloch', 'Ione Irvine'), 1),\n",
              " (('Angela Mcculloch', 'Attila Pazmandi'), 1),\n",
              " (('Angela Mcculloch', 'Dan Dietrich'), 1),\n",
              " (('Angela Mcculloch', 'Tara Sweitzer'), 1)]"
            ]
          },
          "metadata": {},
          "execution_count": 20
        }
      ]
    },
    {
      "cell_type": "code",
      "source": [
        "# Your code to read and process data into rddTask2\n",
        "rddTask2 = E2.filter(lambda x: x[1] >= 2) \\\n",
        "       .map(lambda x: x[0]) \\\n",
        "       .sortByKey()\n",
        "\n",
        "# DO NOT EDIT BELOW\n",
        "rddTask2.collect()"
      ],
      "metadata": {
        "colab": {
          "base_uri": "https://localhost:8080/"
        },
        "id": "xLZGWB8TQ_cO",
        "outputId": "f1bcb621-042b-46e9-9ad6-a8fea2305f73"
      },
      "execution_count": null,
      "outputs": [
        {
          "output_type": "execute_result",
          "data": {
            "text/plain": [
              "[('Brenda Whitehead', 'Elizabeth Sager'),\n",
              " ('Carol Clair', 'Sara Shackleton'),\n",
              " ('Carol Clair', 'Debra Perlingiere'),\n",
              " ('Carol Clair', 'Tana Jones'),\n",
              " ('Carol Clair', 'Mark Taylor'),\n",
              " ('Carol Clair', 'Richard Sanders'),\n",
              " ('Debra Perlingiere', 'Kevin Ruscitti'),\n",
              " ('Drew Fossum', 'Susan Scott'),\n",
              " ('Elizabeth Sager', 'Janette Elbertson'),\n",
              " ('Elizabeth Sager', 'Mark Haedicke'),\n",
              " ('Elizabeth Sager', 'Mark Taylor'),\n",
              " ('Elizabeth Sager', 'Richard Sanders'),\n",
              " ('Eric Bass', 'Susan Scott'),\n",
              " ('Fletcher Sturm', 'Greg Whalley'),\n",
              " ('Fletcher Sturm', 'Sally Beck'),\n",
              " ('Gerald Nemec', 'Susan Scott'),\n",
              " ('Grant Masson', 'Vince Kaminski'),\n",
              " ('Greg Whalley', 'Richard Sanders'),\n",
              " ('Janette Elbertson', 'Mark Taylor'),\n",
              " ('Janette Elbertson', 'Richard Sanders'),\n",
              " ('Liz Taylor', 'Mark Haedicke'),\n",
              " ('Mark Haedicke', 'Mark Taylor'),\n",
              " ('Mark Haedicke', 'Richard Sanders'),\n",
              " ('Mark Haedicke', 'Twanda Sweet'),\n",
              " ('Mark Haedicke', 'Michelle Cash'),\n",
              " ('Mark Taylor', 'Tana Jones'),\n",
              " ('Mark Taylor', 'Sara Shackleton'),\n",
              " ('Michelle Cash', 'Twanda Sweet'),\n",
              " ('Pinnamaneni Krishnarao', 'Vince Kaminski'),\n",
              " ('Richard Sanders', 'Sara Shackleton'),\n",
              " ('Rosalee Fleming', 'Steven Kean'),\n",
              " ('Sara Shackleton', 'Tana Jones'),\n",
              " ('Shirley Crenshaw', 'Vince Kaminski'),\n",
              " ('Stinson Gibner', 'Vince Kaminski'),\n",
              " ('Vasant Shanbhogue', 'Vince Kaminski')]"
            ]
          },
          "metadata": {},
          "execution_count": 21
        }
      ]
    },
    {
      "cell_type": "code",
      "source": [],
      "metadata": {
        "id": "UQiapDwhRXAr"
      },
      "execution_count": null,
      "outputs": []
    },
    {
      "cell_type": "code",
      "source": [],
      "metadata": {
        "id": "qSee1IlmRXGJ"
      },
      "execution_count": null,
      "outputs": []
    },
    {
      "cell_type": "markdown",
      "source": [
        "## Using DataFrame"
      ],
      "metadata": {
        "id": "5ZbjfmuapTkJ"
      }
    },
    {
      "cell_type": "code",
      "source": [
        "# Your code to read and process data into dfTask2\n",
        "dfTask2 = ...\n",
        "\n",
        "# DO NOT EDIT BELOW\n",
        "dfTask2.show(n=50)"
      ],
      "metadata": {
        "colab": {
          "base_uri": "https://localhost:8080/"
        },
        "outputId": "3205df6c-247d-495a-98f1-95797216e8f2",
        "id": "5MRzBNExpFxD"
      },
      "execution_count": null,
      "outputs": [
        {
          "output_type": "stream",
          "name": "stdout",
          "text": [
            "+--------------------+-----------------+\n",
            "|            Person 1|         Person 2|\n",
            "+--------------------+-----------------+\n",
            "|    Brenda Whitehead|  Elizabeth Sager|\n",
            "|         Carol Clair|Debra Perlingiere|\n",
            "|         Carol Clair|      Mark Taylor|\n",
            "|         Carol Clair|  Richard Sanders|\n",
            "|         Carol Clair|  Sara Shackleton|\n",
            "|         Carol Clair|       Tana Jones|\n",
            "|   Debra Perlingiere|   Kevin Ruscitti|\n",
            "|         Drew Fossum|      Susan Scott|\n",
            "|     Elizabeth Sager|Janette Elbertson|\n",
            "|     Elizabeth Sager|    Mark Haedicke|\n",
            "|     Elizabeth Sager|      Mark Taylor|\n",
            "|     Elizabeth Sager|  Richard Sanders|\n",
            "|           Eric Bass|      Susan Scott|\n",
            "|      Fletcher Sturm|     Greg Whalley|\n",
            "|      Fletcher Sturm|       Sally Beck|\n",
            "|        Gerald Nemec|      Susan Scott|\n",
            "|        Grant Masson|   Vince Kaminski|\n",
            "|        Greg Whalley|  Richard Sanders|\n",
            "|   Janette Elbertson|      Mark Taylor|\n",
            "|   Janette Elbertson|  Richard Sanders|\n",
            "|          Liz Taylor|    Mark Haedicke|\n",
            "|       Mark Haedicke|      Mark Taylor|\n",
            "|       Mark Haedicke|    Michelle Cash|\n",
            "|       Mark Haedicke|  Richard Sanders|\n",
            "|       Mark Haedicke|     Twanda Sweet|\n",
            "|         Mark Taylor|  Sara Shackleton|\n",
            "|         Mark Taylor|       Tana Jones|\n",
            "|       Michelle Cash|     Twanda Sweet|\n",
            "|Pinnamaneni Krish...|   Vince Kaminski|\n",
            "|     Richard Sanders|  Sara Shackleton|\n",
            "|     Rosalee Fleming|      Steven Kean|\n",
            "|     Sara Shackleton|       Tana Jones|\n",
            "|    Shirley Crenshaw|   Vince Kaminski|\n",
            "|      Stinson Gibner|   Vince Kaminski|\n",
            "|   Vasant Shanbhogue|   Vince Kaminski|\n",
            "+--------------------+-----------------+\n",
            "\n"
          ]
        }
      ]
    }
  ]
}